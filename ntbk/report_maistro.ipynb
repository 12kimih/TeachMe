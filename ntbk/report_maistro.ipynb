{
 "cells": [
  {
   "cell_type": "markdown",
   "metadata": {
    "vscode": {
     "languageId": "plaintext"
    }
   },
   "source": [
    "# Report mAIstro\n",
    "\n",
    "A simple agent for report generation based upon a user-supplied schema."
   ]
  },
  {
   "cell_type": "code",
   "execution_count": null,
   "metadata": {},
   "outputs": [],
   "source": [
    "%%capture --no-stderr\n",
    "%pip install --quiet -U langgraph langchain_openai langchain_community langchain_core tavily-python wikipedia"
   ]
  },
  {
   "cell_type": "code",
   "execution_count": 2,
   "metadata": {},
   "outputs": [],
   "source": [
    "import os, getpass\n",
    "\n",
    "def _set_env(var: str):\n",
    "    if not os.environ.get(var):\n",
    "        os.environ[var] = getpass.getpass(f\"{var}: \")\n",
    "\n",
    "_set_env(\"OPENAI_API_KEY\")"
   ]
  },
  {
   "cell_type": "code",
   "execution_count": 3,
   "metadata": {},
   "outputs": [],
   "source": [
    "from langchain_openai import ChatOpenAI\n",
    "llm = ChatOpenAI(model=\"gpt-4o\", temperature=0) "
   ]
  },
  {
   "cell_type": "markdown",
   "metadata": {},
   "source": [
    "We'll use the web for research, but this could be easily customized (e.g., to use RAG, etc).\n",
    "\n",
    "We'll use the [Tavily](https://tavily.com/) web search tool."
   ]
  },
  {
   "cell_type": "code",
   "execution_count": null,
   "metadata": {},
   "outputs": [],
   "source": [
    "_set_env(\"TAVILY_API_KEY\")"
   ]
  },
  {
   "cell_type": "markdown",
   "metadata": {
    "vscode": {
     "languageId": "plaintext"
    }
   },
   "source": [
    "We'll use [LangSmith](https://docs.smith.langchain.com/) for [tracing](https://docs.smith.langchain.com/concepts/tracing)."
   ]
  },
  {
   "cell_type": "code",
   "execution_count": 8,
   "metadata": {},
   "outputs": [],
   "source": [
    "_set_env(\"LANGCHAIN_API_KEY\")\n",
    "os.environ[\"LANGCHAIN_TRACING_V2\"] = \"true\"\n",
    "os.environ[\"LANGCHAIN_PROJECT\"] = \"report-mAIstro\""
   ]
  },
  {
   "cell_type": "markdown",
   "metadata": {},
   "source": [
    "## User inputs\n",
    "\n",
    "Example user inputs: \n",
    "\n",
    "* Overall topic \n",
    "* Report schema, which can be a JSON object or simply a string description of the report organization"
   ]
  },
  {
   "cell_type": "code",
   "execution_count": 67,
   "metadata": {},
   "outputs": [],
   "source": [
    "# Report topic \n",
    "topic = \"Overview of AI Agent Frameworks.\"\n",
    "\n",
    "# Test JSON schema input\n",
    "report_structure_test_1 = {\n",
    "  \"report_sections\": [\n",
    "    {\n",
    "      \"name\": \"Executive Summary\",\n",
    "      \"description\": \"A concise overview of the entire report's key findings and recommendations.\",\n",
    "    },\n",
    "    {\n",
    "      \"name\": \"LangGraph Overview\",\n",
    "      \"description\": \"Review of LangGraph as an agent framework. List the primary goals of the framework and provide a comprehensive summary of its key capabilities, features, and use cases.\"\n",
    "    },\n",
    "    {\n",
    "      \"name\": \"CrewAI\",\n",
    "      \"description\": \"Review of CrewAI as an agent framework. List the primary goals of the framework and provide a comprehensive summary of its key capabilities, features, and use cases.\"\n",
    "    },\n",
    "    {\n",
    "      \"name\": \"OpenAI Swarm\",\n",
    "      \"description\": \"Review of OpenAI Swarm as an agent framework. List the primary goals of the framework and provide a comprehensive summary of its key capabilities, features, and use cases.\"\n",
    "    },\n",
    "    {\n",
    "      \"name\": \"Summary\",\n",
    "      \"description\": \"Summary of agent frameworks with comparative table of features.\"\n",
    "    }\n",
    "  ]\n",
    "}\n",
    "\n",
    "# Test natural language input\n",
    "report_structure_test_2 = \"Include sections on the following topics: LangGraph, CrewAI, OpenAI Swarm. In each section, simply list the goal of the framework and a summary of the framework's capabilities. Include an introduction and a concluding summary that contains a comparative table of features.\""
   ]
  },
  {
   "cell_type": "markdown",
   "metadata": {},
   "source": [
    "## Schemas"
   ]
  },
  {
   "cell_type": "code",
   "execution_count": 107,
   "metadata": {},
   "outputs": [],
   "source": [
    "import operator\n",
    "from typing_extensions import TypedDict\n",
    "from typing import  Annotated, List\n",
    "from pydantic import BaseModel, Field\n",
    "\n",
    "class Section(BaseModel):\n",
    "    name: str = Field(\n",
    "        description=\"Name for this section of the report.\",\n",
    "    )\n",
    "    description: str = Field(\n",
    "        description=\"Goals for this section of the report.\",\n",
    "    )\n",
    "    plan: str = Field(\n",
    "        description=\"Organization for this section of the report, if supplied by the user, otherwise provide a reasonable and simple outline.\"\n",
    "    )\n",
    "    research: bool = Field(\n",
    "        description=\"Whether to perform web research for this section of the report.\"\n",
    "    )\n",
    "    content: str = Field(\n",
    "        description=\"The content of the section.\"\n",
    "    )   \n",
    "\n",
    "class Sections(BaseModel):\n",
    "    sections: List[Section] = Field(\n",
    "        description=\"Sections of the report.\",\n",
    "    )\n",
    "\n",
    "class SearchQuery(BaseModel):\n",
    "    search_query: str = Field(None, description=\"Query for web search.\")\n",
    "\n",
    "class Queries(BaseModel):\n",
    "    queries: List[SearchQuery] = Field(\n",
    "        description=\"List of search queries.\",\n",
    "    )\n",
    "\n",
    "class ReportState(TypedDict):\n",
    "    topic: str # Report topic\n",
    "    report_structure: str # Report structure\n",
    "    number_of_queries: int # Number web search queries to perform per section    \n",
    "    sections: list[Section] # List of report sections \n",
    "    completed_sections: Annotated[list, operator.add] # Send() API key\n",
    "    final_report: str # Final report\n",
    "\n",
    "class SectionState(TypedDict):\n",
    "    number_of_queries: int # Number web search queries to perform per section \n",
    "    section: Section # Report section   \n",
    "    search_queries: list[SearchQuery] # List of search queries\n",
    "    source_str: str # String of formatted source content from web search\n",
    "    completed_sections: list[Section] # Final key we duplicate in outer state for Send() API\n",
    "\n",
    "class SectionOutputState(TypedDict):\n",
    "    completed_sections: list[Section] # Final key we duplicate in outer state for Send() API"
   ]
  },
  {
   "cell_type": "markdown",
   "metadata": {},
   "source": [
    "## Research plan generation\n",
    "\n",
    "Look at the input schema, create a research plan for each section of the report based upon it.\n",
    "\n",
    "Some sections (e.g., introduction and conclusion) may not require web research, as they will summarize or distill information from other sections."
   ]
  },
  {
   "cell_type": "code",
   "execution_count": 63,
   "metadata": {},
   "outputs": [],
   "source": [
    "from langchain_core.messages import AIMessage, HumanMessage, SystemMessage\n",
    "\n",
    "# Prompt for research planning with an outline for each section of the report\n",
    "report_planner_instructions=\"\"\"Your goal is to generate an outline for a report on: \n",
    "\n",
    "{topic}\n",
    "\n",
    "The report should follow the organization here: \n",
    "\n",
    "{report_organization}\n",
    "\n",
    "Based upon the above report topic and the organization, for each section populate:\n",
    "\n",
    "* name - Name for this section of the report\n",
    "* description - Goals for this section of the report\n",
    "* plan - Organization for this section of the report, if supplied by the user, otherwise provide a reasonable and simple outline.\n",
    "* research - Whether to perform web research for this section of the report.\n",
    "* content - The content of the section, which you will leave blank for now.\n",
    "\n",
    "Consider which sections require web research. \n",
    "\n",
    "For example, introduction and conclusion will not require research because they will distill information from other parts of the report.\"\"\"\n",
    "\n",
    "def generate_report_plan(state: ReportState):\n",
    "\n",
    "    # Inputs\n",
    "    topic = state[\"topic\"]\n",
    "    report_structure = state[\"report_structure\"]\n",
    "\n",
    "    # Convert JSON object to string if necessary\n",
    "    if isinstance(report_structure, dict):\n",
    "        report_structure = str(report_structure)\n",
    "\n",
    "    # Format system instructions\n",
    "    system_instructions = report_planner_instructions.format(topic=topic, report_organization=report_structure)\n",
    "\n",
    "    # Generate question \n",
    "    structured_llm = llm.with_structured_output(Sections)\n",
    "    report_sections = structured_llm.invoke([SystemMessage(content=system_instructions)]+[HumanMessage(content=\"Generate an outline for each section of the report.\")])\n",
    "\n",
    "    return {\"sections\": report_sections.sections}\n"
   ]
  },
  {
   "cell_type": "code",
   "execution_count": 68,
   "metadata": {},
   "outputs": [
    {
     "data": {
      "text/plain": [
       "{'sections': [Section(name='Executive Summary', description=\"A concise overview of the entire report's key findings and recommendations.\", plan='1. Introduction to AI Agent Frameworks\\n2. Key Findings from the Analysis of LangGraph, CrewAI, and OpenAI Swarm\\n3. Recommendations for Selecting an AI Agent Framework\\n4. Conclusion', research=False, content=''),\n",
       "  Section(name='LangGraph Overview', description='Review of LangGraph as an agent framework. List the primary goals of the framework and provide a comprehensive summary of its key capabilities, features, and use cases.', plan='1. Introduction to LangGraph\\n2. Primary Goals of LangGraph\\n3. Key Capabilities and Features\\n4. Use Cases and Applications\\n5. Conclusion', research=True, content=''),\n",
       "  Section(name='CrewAI', description='Review of CrewAI as an agent framework. List the primary goals of the framework and provide a comprehensive summary of its key capabilities, features, and use cases.', plan='1. Introduction to CrewAI\\n2. Primary Goals of CrewAI\\n3. Key Capabilities and Features\\n4. Use Cases and Applications\\n5. Conclusion', research=True, content=''),\n",
       "  Section(name='OpenAI Swarm', description='Review of OpenAI Swarm as an agent framework. List the primary goals of the framework and provide a comprehensive summary of its key capabilities, features, and use cases.', plan='1. Introduction to OpenAI Swarm\\n2. Primary Goals of OpenAI Swarm\\n3. Key Capabilities and Features\\n4. Use Cases and Applications\\n5. Conclusion', research=True, content=''),\n",
       "  Section(name='Summary', description='Summary of agent frameworks with comparative table of features.', plan='1. Recap of LangGraph, CrewAI, and OpenAI Swarm\\n2. Comparative Table of Features\\n3. Analysis of Strengths and Weaknesses\\n4. Final Thoughts and Recommendations', research=False, content='')]}"
      ]
     },
     "execution_count": 68,
     "metadata": {},
     "output_type": "execute_result"
    }
   ],
   "source": [
    "# Test with JSON input\n",
    "sections = generate_report_plan({\"topic\": topic, \"report_structure\": report_structure_test_1})\n",
    "sections"
   ]
  },
  {
   "cell_type": "code",
   "execution_count": 66,
   "metadata": {},
   "outputs": [
    {
     "data": {
      "text/plain": [
       "{'sections': [Section(name='Introduction', description='Provide an overview of AI agent frameworks and set the context for the report.', plan='1. Define AI agent frameworks.\\n2. Explain the importance of AI agent frameworks in modern technology.\\n3. Briefly introduce the frameworks to be discussed: LangGraph, CrewAI, OpenAI Swarm.', research=False, content=''),\n",
       "  Section(name='LangGraph', description='Discuss the goals and capabilities of the LangGraph framework.', plan='1. State the goal of LangGraph.\\n2. Summarize the capabilities of LangGraph.\\n3. Highlight any unique features or advantages.', research=True, content=''),\n",
       "  Section(name='CrewAI', description='Discuss the goals and capabilities of the CrewAI framework.', plan='1. State the goal of CrewAI.\\n2. Summarize the capabilities of CrewAI.\\n3. Highlight any unique features or advantages.', research=True, content=''),\n",
       "  Section(name='OpenAI Swarm', description='Discuss the goals and capabilities of the OpenAI Swarm framework.', plan='1. State the goal of OpenAI Swarm.\\n2. Summarize the capabilities of OpenAI Swarm.\\n3. Highlight any unique features or advantages.', research=True, content=''),\n",
       "  Section(name='Conclusion', description='Summarize the findings and provide a comparative table of features for the discussed frameworks.', plan='1. Recap the goals and capabilities of each framework.\\n2. Present a comparative table of features.\\n3. Conclude with insights or recommendations based on the comparison.', research=False, content='')]}"
      ]
     },
     "execution_count": 66,
     "metadata": {},
     "output_type": "execute_result"
    }
   ],
   "source": [
    "# Test with natural language input\n",
    "sections = generate_report_plan({\"topic\": topic, \"report_structure\": report_structure_test_2})\n",
    "sections\n"
   ]
  },
  {
   "cell_type": "markdown",
   "metadata": {},
   "source": [
    "## Web search and section writing\n",
    "\n",
    "Perform research based upon the plan for each section of the report. "
   ]
  },
  {
   "cell_type": "code",
   "execution_count": 103,
   "metadata": {},
   "outputs": [],
   "source": [
    "# Web search tool\n",
    "from langchain_community.tools.tavily_search import TavilySearchResults\n",
    "tavily_search = TavilySearchResults(max_results=3)"
   ]
  },
  {
   "cell_type": "code",
   "execution_count": 108,
   "metadata": {},
   "outputs": [
    {
     "data": {
      "image/png": "[encoded data removed]",
      "text/plain": [
       "<IPython.core.display.Image object>"
      ]
     },
     "metadata": {},
     "output_type": "display_data"
    }
   ],
   "source": [
    "from IPython.display import Image, display\n",
    "from langgraph.graph import START, END, StateGraph\n",
    "from langgraph.checkpoint.memory import MemorySaver\n",
    "\n",
    "# Query writer instructions\n",
    "query_writer_instructions=\"\"\"Your goal is to generate queries for a web search.\n",
    "\n",
    "Here is your topic: \n",
    "\n",
    "{section_topic}\n",
    "\n",
    "Here is the organization of a report section on the topic: \n",
    "\n",
    "{section_plan}\n",
    "\n",
    "Generate the following number of queries that capture unique and non-redundant information from the topic:\n",
    "\n",
    "{number_of_queries}.\"\"\"\n",
    "\n",
    "# Section writer instructions\n",
    "section_writer_instructions = \"\"\"You are an expert technical writer. \n",
    "            \n",
    "You are writing one section of a larger report based on a set of source documents about this overall topic: \n",
    "{section_topic}\n",
    "\n",
    "1. Analyze the content of the source documents: \n",
    "- Each source document has content and url \n",
    "        \n",
    "2. Create a report structure using markdown formatting:\n",
    "- Use ## for the title\n",
    "- Use ### for any sub-sections\n",
    "- Use ### for the final section focused on sources\n",
    "        \n",
    "3. Write the report following this structure:\n",
    "a. Title (## header)\n",
    "b. Summary (### header)\n",
    "c. Sources (### header)\n",
    "\n",
    "4. Make your title engaging based upon the focus area of the section, shown here:\n",
    "{section_title}\n",
    "\n",
    "5. Create compelling titles for sub-sections based on the outline here:\n",
    "{section_plan}\n",
    "\n",
    "6. Use this sources to fill in the details of the sub-sections: \n",
    "{context}\n",
    "\n",
    "7. Final review:\n",
    "- Ensure the report follows the sub-section structure\n",
    "- Include no preamble before the title of the report\n",
    "- Ensure that the section ends with sources\"\"\"\n",
    "\n",
    "def deduplicate_and_format_sources(sources_list):\n",
    "    \"\"\"\n",
    "    Takes a list or list of lists containing source dictionaries and returns\n",
    "    a single list with unique elements based on URL.\n",
    "    \n",
    "    Args:\n",
    "        sources_list: List or list of lists containing dictionaries with 'url' and 'content' keys\n",
    "        \n",
    "    Returns:\n",
    "        List of unique source dictionaries, formatted string of sources \n",
    "    \"\"\"\n",
    "    # Flatten the list if it's a list of lists\n",
    "    flat_list = []\n",
    "    if isinstance(sources_list[0], list):\n",
    "        for sublist in sources_list:\n",
    "            flat_list.extend(sublist)\n",
    "    else:\n",
    "        flat_list = sources_list\n",
    "    \n",
    "    # Use a dictionary to keep track of unique URLs\n",
    "    unique_sources = {}\n",
    "    for source in flat_list:\n",
    "        if source['url'] not in unique_sources:\n",
    "            unique_sources[source['url']] = source\n",
    "    \n",
    "    # Convert back to list\n",
    "    sources_list = list(unique_sources.values())\n",
    "    \n",
    "    # Format\n",
    "    formatted_text = \"Sources:\\n\\n\"\n",
    "    for i, source in enumerate(sources_list, 1):\n",
    "        formatted_text += f\"Source {i}:\\n\"\n",
    "        formatted_text += f\"URL: {source['url']}\\n\"\n",
    "        formatted_text += f\"Content: {source['content']}\\n\\n\"\n",
    "    \n",
    "    return formatted_text.strip()\n",
    "\n",
    "def generate_queries(state: SectionState):\n",
    "    \"\"\" Generate search queries for a section \"\"\"\n",
    "\n",
    "    # Get state \n",
    "    number_of_queries = state[\"number_of_queries\"]\n",
    "    section = state[\"section\"]\n",
    "\n",
    "    # Generate queries \n",
    "    structured_llm = llm.with_structured_output(Queries)\n",
    "\n",
    "    # Format system instructions\n",
    "    system_instructions = query_writer_instructions.format(section_topic=section.description, section_plan=section.plan, number_of_queries=number_of_queries)\n",
    "\n",
    "    # Generate queries  \n",
    "    queries = structured_llm.invoke([SystemMessage(content=system_instructions)]+[HumanMessage(content=\"Generate search queries on the provided topic.\")])\n",
    "\n",
    "    return {\"search_queries\": queries.queries}\n",
    "\n",
    "def search_web(state: SectionState):\n",
    "    \"\"\" Search the web for each query, then return a list of raw sources and a formatted string of sources.\"\"\"\n",
    "    \n",
    "    # Get state \n",
    "    search_queries = state[\"search_queries\"]\n",
    "\n",
    "    # Search web \n",
    "    search_docs = tavily_search.batch([q.search_query for q in search_queries])\n",
    "\n",
    "    # Deduplicate and format sources\n",
    "    source_str = deduplicate_and_format_sources(search_docs)\n",
    "\n",
    "    return {\"source_str\": source_str}\n",
    "\n",
    "def write_section(state: SectionState):\n",
    "    \"\"\" Write a section of the report \"\"\"\n",
    "\n",
    "    # Get state \n",
    "    section = state[\"section\"]\n",
    "    source_str = state[\"source_str\"]\n",
    "\n",
    "    # Format system instructions\n",
    "    system_instructions = section_writer_instructions.format(section_title=section.name, section_topic=section.description, section_plan=section.plan, context=source_str)\n",
    "\n",
    "    # Generate section  \n",
    "    section_content = llm.invoke([SystemMessage(content=system_instructions)]+[HumanMessage(content=\"Generate a report section based on the provided sources.\")])\n",
    "    \n",
    "    # Write content to the section object  \n",
    "    section.content = section_content.content\n",
    "\n",
    "    # Write the updated section to completed sections\n",
    "    return {\"completed_sections\": [section]}\n",
    "\n",
    "# Add nodes and edges \n",
    "section_builder = StateGraph(SectionState, output=SectionOutputState)\n",
    "section_builder.add_node(\"generate_queries\", generate_queries)\n",
    "section_builder.add_node(\"search_web\", search_web)\n",
    "section_builder.add_node(\"write_section\", write_section)\n",
    "\n",
    "section_builder.add_edge(START, \"generate_queries\")\n",
    "section_builder.add_edge(\"generate_queries\", \"search_web\")\n",
    "section_builder.add_edge(\"search_web\", \"write_section\")\n",
    "section_builder.add_edge(\"write_section\", END)\n",
    "\n",
    "# Compile\n",
    "section_builder_graph = section_builder.compile()\n",
    "\n",
    "# View\n",
    "display(Image(section_builder_graph.get_graph(xray=1).draw_mermaid_png()))\n"
   ]
  },
  {
   "cell_type": "code",
   "execution_count": 99,
   "metadata": {},
   "outputs": [
    {
     "data": {
      "text/plain": [
       "[Section(name='Executive Summary', description=\"A concise overview of the entire report's key findings and recommendations.\", plan='1. Introduction to AI Agent Frameworks\\n2. Key Findings from the Analysis of LangGraph, CrewAI, and OpenAI Swarm\\n3. Recommendations for Selecting an AI Agent Framework\\n4. Conclusion', research=False, content=''),\n",
       " Section(name='LangGraph Overview', description='Review of LangGraph as an agent framework. List the primary goals of the framework and provide a comprehensive summary of its key capabilities, features, and use cases.', plan='1. Introduction to LangGraph\\n2. Primary Goals of LangGraph\\n3. Key Capabilities and Features\\n4. Use Cases and Applications\\n5. Conclusion', research=True, content=''),\n",
       " Section(name='CrewAI', description='Review of CrewAI as an agent framework. List the primary goals of the framework and provide a comprehensive summary of its key capabilities, features, and use cases.', plan='1. Introduction to CrewAI\\n2. Primary Goals of CrewAI\\n3. Key Capabilities and Features\\n4. Use Cases and Applications\\n5. Conclusion', research=True, content=''),\n",
       " Section(name='OpenAI Swarm', description='Review of OpenAI Swarm as an agent framework. List the primary goals of the framework and provide a comprehensive summary of its key capabilities, features, and use cases.', plan='1. Introduction to OpenAI Swarm\\n2. Primary Goals of OpenAI Swarm\\n3. Key Capabilities and Features\\n4. Use Cases and Applications\\n5. Conclusion', research=True, content=''),\n",
       " Section(name='Summary', description='Summary of agent frameworks with comparative table of features.', plan='1. Recap of LangGraph, CrewAI, and OpenAI Swarm\\n2. Comparative Table of Features\\n3. Analysis of Strengths and Weaknesses\\n4. Final Thoughts and Recommendations', research=False, content='')]"
      ]
     },
     "execution_count": 99,
     "metadata": {},
     "output_type": "execute_result"
    }
   ],
   "source": [
    "sections['sections']"
   ]
  },
  {
   "cell_type": "code",
   "execution_count": 100,
   "metadata": {},
   "outputs": [
    {
     "data": {
      "text/plain": [
       "Section(name='Executive Summary', description=\"A concise overview of the entire report's key findings and recommendations.\", plan='1. Introduction to AI Agent Frameworks\\n2. Key Findings from the Analysis of LangGraph, CrewAI, and OpenAI Swarm\\n3. Recommendations for Selecting an AI Agent Framework\\n4. Conclusion', research=False, content='')"
      ]
     },
     "execution_count": 100,
     "metadata": {},
     "output_type": "execute_result"
    }
   ],
   "source": [
    "sections['sections'][0]"
   ]
  },
  {
   "cell_type": "code",
   "execution_count": 101,
   "metadata": {},
   "outputs": [
    {
     "data": {
      "text/plain": [
       "{'number_of_queries': 2,\n",
       " 'section': Section(name='Executive Summary', description=\"A concise overview of the entire report's key findings and recommendations.\", plan='1. Introduction to AI Agent Frameworks\\n2. Key Findings from the Analysis of LangGraph, CrewAI, and OpenAI Swarm\\n3. Recommendations for Selecting an AI Agent Framework\\n4. Conclusion', research=False, content=\"## Executive Summary\\n\\n### Introduction to AI Agent Frameworks\\n\\nAI agent frameworks are powerful tools that enable developers to build smart, independent systems capable of making decisions and carrying out tasks autonomously. These frameworks are transforming the development of intelligent systems, from simple chatbots to complex autonomous systems. The interplay between decision-making models, communication protocols, and task management utilities shapes an AI agent’s capabilities and performance. The world of AI agent frameworks is buzzing with innovation, offering developers a range of options to bring their intelligent applications to life. Selecting the right AI agent framework is crucial, and incorporating tools like SmythOS can elevate development projects to new heights. [Source 1](https://smythos.com/ai-agents/ai-agents-and-tool-usage/ai-agent-frameworks/)\\n\\n### Key Findings from the Analysis of LangGraph, CrewAI, and OpenAI Swarm\\n\\nAI agents are gaining popularity for their ability to connect with different systems, automate processes, and accomplish specific tasks. A structured platform provided by AI agent frameworks allows for the deployment and management of these agents in an enterprise environment. This includes a cohesive environment with LLMs, pre-built components, and APIs that ease the creation and scaling of customized AI agents. [Source 2](https://www.atomicwork.com/itsm/best-ai-agent-frameworks)\\n\\nA comparative analysis of CrewAI, AutoGen, and LangGraph highlights each framework's unique strengths and focus areas. CrewAI emphasizes real-time, dynamic interactions between AI models and human operators, making it suitable for industries relying on human interaction, creativity, and real-time decision-making. OpenAI Swarm, on the other hand, focuses on collaboration among multiple AI agents, each specializing in different tasks. [Source 4](https://medium.com/@rohitobrai11/llm-powered-multi-agent-systems-a-comparative-analysis-of-crew-ai-autogen-and-langraph-f3ff50182504) [Source 5](https://medium.com/@julio.pessan.pessan/openai-swarm-vs-crewai-the-evolution-of-collaborative-ai-systems-119574cb3826)\\n\\n### Recommendations for Selecting an AI Agent Framework\\n\\nWhen selecting an AI agent framework, it is essential to consider the specific needs of your project. For projects that require human-AI collaboration and real-time decision-making, CrewAI's model may be the best fit. For tasks that benefit from specialized AI agents working collaboratively, OpenAI Swarm offers a robust solution. LangGraph provides a well-supported framework with extensive community support and documentation, making it a reliable choice for developers. [Source 6](https://www.gettingstarted.ai/best-multi-agent-ai-framework/)\\n\\n### Conclusion\\n\\nThe choice of an AI agent framework can significantly impact the success of a project. By understanding the unique strengths and focus areas of frameworks like LangGraph, CrewAI, and OpenAI Swarm, developers can make informed decisions that align with their project goals and requirements. The ongoing innovation in AI agent frameworks continues to offer exciting opportunities for creating intelligent, autonomous systems.\\n\\n### Sources\\n\\n1. [AI Agent Frameworks](https://smythos.com/ai-agents/ai-agents-and-tool-usage/ai-agent-frameworks/)\\n2. [Best AI Agent Frameworks](https://www.atomicwork.com/itsm/best-ai-agent-frameworks)\\n3. [AI Agent Frameworks Comparison](https://www.analyticsvidhya.com/blog/2024/07/ai-agent-frameworks/)\\n4. [LLM-Powered Multi-Agent Systems: A Comparative Analysis](https://medium.com/@rohitobrai11/llm-powered-multi-agent-systems-a-comparative-analysis-of-crew-ai-autogen-and-langraph-f3ff50182504)\\n5. [OpenAI Swarm vs CrewAI: The Evolution of Collaborative AI Systems](https://medium.com/@julio.pessan.pessan/openai-swarm-vs-crewai-the-evolution-of-collaborative-ai-systems-119574cb3826)\\n6. [Best Multi-Agent AI Framework](https://www.gettingstarted.ai/best-multi-agent-ai-framework/)\"),\n",
       " 'search_queries': [SearchQuery(search_query='overview of AI agent frameworks key findings and recommendations'),\n",
       "  SearchQuery(search_query='LangGraph, CrewAI, OpenAI Swarm analysis summary and recommendations')],\n",
       " 'source_str': 'Sources:\\n\\nSource 1:\\nURL: https://smythos.com/ai-agents/ai-agents-and-tool-usage/ai-agent-frameworks/\\nContent: AI agent frameworks are powerful tools that help developers build smart, independent systems. These frameworks enable AI agents to make decisions and carry out tasks autonomously. AI agent frameworks are transforming how developers create intelligent systems. Whether developing a simple chatbot or a complex autonomous system, the interplay between decision-making models, communication protocols, and task management utilities shapes an AI agent’s capabilities and performance. The world of AI agent frameworks is buzzing with innovation, offering developers a range of options to bring their intelligent applications to life. Selecting the Right AI Agent Framework for Your Project How SmythOS Enhances AI Agent Development While choosing the right AI agent framework is crucial, incorporating SmythOS into your development process can elevate your projects to new heights.\\n\\nSource 2:\\nURL: https://www.atomicwork.com/itsm/best-ai-agent-frameworks\\nContent: AI agents are quickly gaining popularity for their ability to connect with different systems in a company, automate processes, and accomplish specific tasks.. An AI agent framework provides a structured platform to deploy and manage these AI agents in an enterprise. It offers a cohesive environment with LLMs, pre-built components and APIs that ease the creation and scaling of customized AI agents.\\n\\nSource 3:\\nURL: https://www.analyticsvidhya.com/blog/2024/07/ai-agent-frameworks/\\nContent: Comparison of AI Agent Frameworks. The following table provides a high-level comparison of the key AI agent frameworks discussed in this article. This comparison aims to highlight each framework\\'s unique strengths and focus areas, helping developers and researchers choose the most suitable tool for their specific needs.\\n\\nSource 4:\\nURL: https://medium.com/@rohitobrai11/llm-powered-multi-agent-systems-a-comparative-analysis-of-crew-ai-autogen-and-langraph-f3ff50182504\\nContent: LLM-Powered Multi-Agent Systems: A Comparative Analysis of Crew.ai, AutoGen, and Langraph | by Rohit Kumar | Aug, 2024 | Medium For a 2-agent practical implementation, follow this notebook->https://github.com/langchain-ai/langgraph/blob/main/examples/multi_agent/agent_supervisor.ipynb?ref=blog.langchain.dev For more details, visit this page->https://blog.langchain.dev/langgraph-multi-agent-workflows/ from crewai import Agent, Task, Crew Agent Attributes: Each agent has a role, a goal, a backstory (to give context to the AI), the language model it will use, whether it can delegate tasks to other agents (allow_delegation), and a verbose flag (set to True for debugging). plan: The planning task, where the planner agent will outline the content, research, and target audience. write The writing task, where the writer agent will create the blog post based on the plan. Use the content plan to craft a compelling blog post on {topic}.\\\\n\"\\n\\nSource 5:\\nURL: https://medium.com/@julio.pessan.pessan/openai-swarm-vs-crewai-the-evolution-of-collaborative-ai-systems-119574cb3826\\nContent: OpenAI Swarm extends this to AI, where multiple AI agents, each specializing in different tasks, collaborate to solve problems. Human-AI collaboration: CrewAI emphasizes real-time, dynamic interactions between AI models and human operators, with each AI co-pilot specializing in specific areas like content creation, data analysis, or problem-solving. User-focused AI: Rather than operating independently like OpenAI Swarm’s agents, CrewAI is designed to interact closely with humans, learning from user input, and providing feedback and suggestions in a conversational, context-aware manner. With CrewAI, humans can collaborate more effectively, focus on higher-order thinking, and leave the repetitive, data-crunching tasks to AI assistants. However, if your industry relies on human interaction, creativity, and real-time decision-making, CrewAI’s human-AI collaborative model may be the best fit.\\n\\nSource 6:\\nURL: https://www.gettingstarted.ai/best-multi-agent-ai-framework/\\nContent: Let\\'s compare AutoGen, crewAI, LangGraph and OpenAI Swarm AutoGen vs crewAI vs LangGraph vs OpenAI Swarm: Which AI Agent Framework Wins? Luckily, we\\'re going to explore the most popular AI multi-agent frameworks in this post so you can make the right choice! Which AI agent framework wins? Honestly, that’s why I decided to make this video and blog post—that’s because there are so many agentic frameworks to choose from nowadays. We\\'re going to look at the most popular frameworks today—AutoGen, crewAI, LangGraph, and OpenAI’s Swarm—I\\'m leaving a \"secret\" framework for the end. LangChain is an established framework with tons of community support, documentation, and useful tools. Not every problem needs agents, frameworks, or even AI.',\n",
       " 'completed_sections': [Section(name='Executive Summary', description=\"A concise overview of the entire report's key findings and recommendations.\", plan='1. Introduction to AI Agent Frameworks\\n2. Key Findings from the Analysis of LangGraph, CrewAI, and OpenAI Swarm\\n3. Recommendations for Selecting an AI Agent Framework\\n4. Conclusion', research=False, content=\"## Executive Summary\\n\\n### Introduction to AI Agent Frameworks\\n\\nAI agent frameworks are powerful tools that enable developers to build smart, independent systems capable of making decisions and carrying out tasks autonomously. These frameworks are transforming the development of intelligent systems, from simple chatbots to complex autonomous systems. The interplay between decision-making models, communication protocols, and task management utilities shapes an AI agent’s capabilities and performance. The world of AI agent frameworks is buzzing with innovation, offering developers a range of options to bring their intelligent applications to life. Selecting the right AI agent framework is crucial, and incorporating tools like SmythOS can elevate development projects to new heights. [Source 1](https://smythos.com/ai-agents/ai-agents-and-tool-usage/ai-agent-frameworks/)\\n\\n### Key Findings from the Analysis of LangGraph, CrewAI, and OpenAI Swarm\\n\\nAI agents are gaining popularity for their ability to connect with different systems, automate processes, and accomplish specific tasks. A structured platform provided by AI agent frameworks allows for the deployment and management of these agents in an enterprise environment. This includes a cohesive environment with LLMs, pre-built components, and APIs that ease the creation and scaling of customized AI agents. [Source 2](https://www.atomicwork.com/itsm/best-ai-agent-frameworks)\\n\\nA comparative analysis of CrewAI, AutoGen, and LangGraph highlights each framework's unique strengths and focus areas. CrewAI emphasizes real-time, dynamic interactions between AI models and human operators, making it suitable for industries relying on human interaction, creativity, and real-time decision-making. OpenAI Swarm, on the other hand, focuses on collaboration among multiple AI agents, each specializing in different tasks. [Source 4](https://medium.com/@rohitobrai11/llm-powered-multi-agent-systems-a-comparative-analysis-of-crew-ai-autogen-and-langraph-f3ff50182504) [Source 5](https://medium.com/@julio.pessan.pessan/openai-swarm-vs-crewai-the-evolution-of-collaborative-ai-systems-119574cb3826)\\n\\n### Recommendations for Selecting an AI Agent Framework\\n\\nWhen selecting an AI agent framework, it is essential to consider the specific needs of your project. For projects that require human-AI collaboration and real-time decision-making, CrewAI's model may be the best fit. For tasks that benefit from specialized AI agents working collaboratively, OpenAI Swarm offers a robust solution. LangGraph provides a well-supported framework with extensive community support and documentation, making it a reliable choice for developers. [Source 6](https://www.gettingstarted.ai/best-multi-agent-ai-framework/)\\n\\n### Conclusion\\n\\nThe choice of an AI agent framework can significantly impact the success of a project. By understanding the unique strengths and focus areas of frameworks like LangGraph, CrewAI, and OpenAI Swarm, developers can make informed decisions that align with their project goals and requirements. The ongoing innovation in AI agent frameworks continues to offer exciting opportunities for creating intelligent, autonomous systems.\\n\\n### Sources\\n\\n1. [AI Agent Frameworks](https://smythos.com/ai-agents/ai-agents-and-tool-usage/ai-agent-frameworks/)\\n2. [Best AI Agent Frameworks](https://www.atomicwork.com/itsm/best-ai-agent-frameworks)\\n3. [AI Agent Frameworks Comparison](https://www.analyticsvidhya.com/blog/2024/07/ai-agent-frameworks/)\\n4. [LLM-Powered Multi-Agent Systems: A Comparative Analysis](https://medium.com/@rohitobrai11/llm-powered-multi-agent-systems-a-comparative-analysis-of-crew-ai-autogen-and-langraph-f3ff50182504)\\n5. [OpenAI Swarm vs CrewAI: The Evolution of Collaborative AI Systems](https://medium.com/@julio.pessan.pessan/openai-swarm-vs-crewai-the-evolution-of-collaborative-ai-systems-119574cb3826)\\n6. [Best Multi-Agent AI Framework](https://www.gettingstarted.ai/best-multi-agent-ai-framework/)\")]}"
      ]
     },
     "execution_count": 101,
     "metadata": {},
     "output_type": "execute_result"
    }
   ],
   "source": [
    "completed_section = section_builder_graph.invoke({\"section\": sections['sections'][0], \"number_of_queries\": 2})\n",
    "completed_section\n"
   ]
  },
  {
   "cell_type": "markdown",
   "metadata": {},
   "source": [
    "## Write sections\n"
   ]
  },
  {
   "cell_type": "code",
   "execution_count": 109,
   "metadata": {},
   "outputs": [
    {
     "data": {
      "image/png": "[encoded data removed]",
      "text/plain": [
       "<IPython.core.display.Image object>"
      ]
     },
     "metadata": {},
     "output_type": "display_data"
    }
   ],
   "source": [
    "from langgraph.constants import Send\n",
    "\n",
    "def initiate_section_writing(state: ReportState):\n",
    "    \"\"\" This is the \"map\" step when we kick off research on any sections that require it using the Send API \"\"\"    \n",
    "\n",
    "    # State\n",
    "    number_of_queries = state[\"number_of_queries\"]\n",
    "    \n",
    "    # Kick off section writing in parallel via Send() API for any sections that require research\n",
    "    return [\n",
    "        Send(\"section_builder\", {\"section\": s, \"number_of_queries\": state[\"number_of_queries\"]}) \n",
    "        for s in state[\"sections\"] \n",
    "        if s.research\n",
    "    ]\n",
    "\n",
    "def format_sections(sections: list[Section]) -> str:\n",
    "    \"\"\" Format a list of sections into a string \"\"\"\n",
    "    formatted_str = \"\"\n",
    "    for idx, section in enumerate(sections, 1):\n",
    "        formatted_str += f\"\"\"\n",
    "{'='*60}\n",
    "Section {idx}: {section.name}\n",
    "{'='*60}\n",
    "Description:\n",
    "{section.description}\n",
    "\n",
    "Plan:\n",
    "{section.plan}\n",
    "\n",
    "Requires Research: {section.research}\n",
    "\n",
    "Content:\n",
    "{section.content if section.content else '[Not yet written]'}\n",
    "\n",
    "\"\"\"\n",
    "    return formatted_str\n",
    "\n",
    "final_section_writer_instructions=\"\"\"You are an expert technical writer. \n",
    "            \n",
    "You are writing one section of a larger report. Here is the section topic: \n",
    "{section_topic}\n",
    "\n",
    "1. Analyze the content of the source documents: \n",
    "- Each source document has content and url \n",
    "        \n",
    "2. Create a report structure using markdown formatting:\n",
    "- Use ## for the title\n",
    "- Use ### for any sub-sections\n",
    "\n",
    "3. Make your title engaging based upon the focus area of the section, shown here:\n",
    "{section_title}\n",
    "\n",
    "4. Create compelling titles for sub-sections based on the outline here:\n",
    "{section_plan}\n",
    "\n",
    "5. Here is content from the rest of the report to guide your section: \n",
    "{context}\n",
    "\n",
    "6. Final review:\n",
    "- Ensure the section follows the sub-section structure\n",
    "- Include no preamble before the title of the report\"\"\"\n",
    "\n",
    "def finalize_report(state: ReportState):\n",
    "    \"\"\" Write any final sections based the the rest of the report and compile the final report \"\"\"    \n",
    "\n",
    "    # Get sections\n",
    "    sections = state[\"sections\"]\n",
    "    completed_sections = state[\"completed_sections\"]\n",
    "\n",
    "    # Update master list with completed content from web research\n",
    "    for completed in completed_sections:\n",
    "        for section in sections:\n",
    "            if section.name == completed.name:\n",
    "                section.content = completed.content\n",
    "\n",
    "    # Format completed section to str in order to write the final sections\n",
    "    formatted_report_sections = format_sections(completed_sections)\n",
    "\n",
    "    # Write final sections that did not require web research\n",
    "    for section in sections:\n",
    "\n",
    "        # Section did not require web research\n",
    "        if not section.research:\n",
    "\n",
    "            # Format system instructions\n",
    "            system_instructions = final_section_writer_instructions.format(section_title=section.name, section_topic=section.description, section_plan=section.plan, context=formatted_report_sections)\n",
    "\n",
    "            # Generate section  \n",
    "            section_content = llm.invoke([SystemMessage(content=system_instructions)]+[HumanMessage(content=\"Generate a report section based on the provided sources.\")])\n",
    "        \n",
    "            # Write content to section \n",
    "            section.content = section_content.content\n",
    "\n",
    "    # Compile final report\n",
    "    all_sections = \"\\n\\n\".join([s.content for s in sections])\n",
    "\n",
    "    return {\"sections\": sections, \"final_report\": all_sections}\n",
    "\n",
    "# Add nodes and edges \n",
    "builder = StateGraph(ReportState)\n",
    "builder.add_node(\"generate_report_plan\", generate_report_plan)\n",
    "builder.add_node(\"section_builder\", section_builder.compile())\n",
    "builder.add_node(\"finalize_report\", finalize_report)\n",
    "builder.add_edge(START, \"generate_report_plan\")\n",
    "builder.add_conditional_edges(\"generate_report_plan\", initiate_section_writing, [\"section_builder\"])\n",
    "builder.add_edge(\"section_builder\", \"finalize_report\")\n",
    "builder.add_edge(\"finalize_report\", END)\n",
    "\n",
    "graph = builder.compile()\n",
    "display(Image(graph.get_graph(xray=1).draw_mermaid_png()))"
   ]
  },
  {
   "cell_type": "code",
   "execution_count": 110,
   "metadata": {},
   "outputs": [],
   "source": [
    "final_state = graph.invoke({\"topic\": topic, \"report_structure\": report_structure_test_2, \"number_of_queries\": 2})"
   ]
  },
  {
   "cell_type": "code",
   "execution_count": 111,
   "metadata": {},
   "outputs": [
    {
     "data": {
      "text/markdown": [
       "## Introduction to AI Agent Frameworks: Pioneering the Future of Artificial Intelligence\n",
       "\n",
       "### Defining AI Agent Frameworks\n",
       "AI agent frameworks are structured environments or platforms designed to facilitate the development, coordination, and execution of artificial intelligence agents. These frameworks provide the necessary tools and infrastructure to create, manage, and deploy AI agents that can perform specific tasks autonomously or collaboratively. By offering a standardized approach to building AI systems, these frameworks enable developers to focus on designing intelligent behaviors and interactions, rather than dealing with the complexities of underlying infrastructure.\n",
       "\n",
       "### The Importance of AI Agent Frameworks in AI Development\n",
       "AI agent frameworks play a crucial role in the advancement of artificial intelligence by streamlining the development process and enhancing the capabilities of AI systems. They allow for the efficient orchestration of multiple agents, enabling complex problem-solving and decision-making processes that would be challenging to achieve with isolated agents. These frameworks also promote scalability, flexibility, and collaboration, which are essential for tackling real-world applications across various industries. By providing a robust foundation for AI development, agent frameworks accelerate innovation and deployment, ultimately driving the evolution of AI technologies.\n",
       "\n",
       "### Introducing the Frameworks: LangGraph, CrewAI, OpenAI Swarm\n",
       "In this report, we will explore three prominent AI agent frameworks: LangGraph, CrewAI, and OpenAI Swarm. Each of these frameworks offers unique features and capabilities that contribute to the field of artificial intelligence in distinct ways. LangGraph focuses on the orchestration of language model agents, CrewAI emphasizes collaborative intelligence among role-playing agents, and OpenAI Swarm revolutionizes multi-agent systems with its adaptable and scalable platform. Through an in-depth analysis of these frameworks, we aim to highlight their significance and potential impact on the future of AI development.\n",
       "\n",
       "## LangGraph: Unleashing the Power of AI Agents\n",
       "\n",
       "### Defining the Goal of LangGraph\n",
       "LangGraph is a framework within the LangChain ecosystem designed to streamline the development and execution of AI agents. The primary goal of LangGraph is to provide a structured environment for defining, coordinating, and executing multiple language model (LLM) agents, or chains, in a cohesive manner. By implementing LangGraph, developers can create modular components tailored to specific functionalities, such as natural language understanding and response generation, ensuring that AI agents meet user expectations and objectives (Source 1, Source 2).\n",
       "\n",
       "### Exploring the Capabilities of LangGraph\n",
       "LangGraph offers a robust framework that supports diverse control flows, including single-agent, multi-agent, hierarchical, and sequential configurations. It simplifies the development process by enabling the creation of cyclical graphs, which are crucial for orchestrating the interactions of multiple LLM agents. This capability ensures smooth communication and efficient execution of complex tasks, allowing developers to build systems that can handle realistic scenarios with ease (Source 2, Source 3, Source 5).\n",
       "\n",
       "### Unique Features and Advantages of LangGraph\n",
       "One of the standout features of LangGraph is its flexibility and extensive customization options. It allows developers to represent workflows as cyclical graphs, facilitating the orchestration of multiple agents and ensuring efficient task execution. LangGraph also supports the integration of external tools and APIs, enabling sophisticated state management and the implementation of human-in-the-loop setups. Additionally, the framework includes moderation and quality loops to maintain agent reliability and prevent deviations from intended outcomes (Source 3, Source 4, Source 5).\n",
       "\n",
       "### Sources\n",
       "- [AI Agents in LangGraph](https://www.rapidinnovation.io/post/ai-agents-in-langgraph)\n",
       "- [LangGraph Tutorial](https://www.datacamp.com/tutorial/langgraph-tutorial)\n",
       "- [LangGraph Tutorial for Beginners](https://blog.futuresmart.ai/langgraph-tutorial-for-beginners)\n",
       "- [Exploring LangGraph](https://towardsdatascience.com/from-basics-to-advanced-exploring-langgraph-e8c1cf4db787)\n",
       "- [LangGraph Platform](https://www.langchain.com/langgraph)\n",
       "\n",
       "## Unleashing the Power of CrewAI: A Revolutionary Framework for AI Collaboration\n",
       "\n",
       "### Defining the Ambitious Goal of CrewAI\n",
       "CrewAI is a groundbreaking open-source framework designed to orchestrate role-playing AI agents, enabling them to work cohesively towards shared objectives. The primary goal of CrewAI is to facilitate the collaboration of autonomous AI agents, each assigned specific roles and responsibilities, to enhance the efficiency and effectiveness of AI-driven processes. By redefining AI collaboration through its innovative approach to multi-agent orchestration, CrewAI empowers autonomous AI agents to tackle complex tasks, thereby enhancing decision-making capabilities and streamlining workflows across various industries.\n",
       "\n",
       "### Exploring the Capabilities of CrewAI\n",
       "CrewAI operates by orchestrating multiple AI agents through a structured process, which has transformative implications across various sectors. It enables developers to build and deploy automated workflows using multiple AI agents that collaborate to perform complex tasks. The framework supports the development and management of multi-agent AI systems, making it perfect for both basic and complex applications. CrewAI's design and scalability encourage a collaborative method for tackling challenges and making decisions within AI systems, ultimately reducing costs and improving operational efficiency.\n",
       "\n",
       "### Unique Features and Advantages of CrewAI\n",
       "One of the unique features of CrewAI is its introduction of the concept of \"crews,\" where a team of agents, each with a well-defined role, goal, and backstory, work together seamlessly. This approach elevates the concept of agentic frameworks, fostering collaborative intelligence among agents. Although CrewAI operates as a black box, meaning there is limited control over the process, it significantly reduces human effort by automatically choosing tools. This capability allows for real-time collaboration and enhances the overall effectiveness of AI-driven processes.\n",
       "\n",
       "### Sources\n",
       "- [CrewAI Guide](https://insights.codegpt.co/crewai-guide)\n",
       "- [A Complete Guide to CrewAI and Agentic Frameworks](https://medium.com/@harshav.vanukuri/a-complete-guide-to-crew-ai-and-agentic-frameworks-unleashing-the-power-of-autonomous-ai-crews-9911f39110f5)\n",
       "- [CrewAI: A Framework for Building Agents](https://medium.com/@speaktoharisudhan/crewai-a-framework-for-building-agents-170ccf929b3c)\n",
       "- [CrewAI GitHub Repository](https://github.com/supamakers/crewai)\n",
       "- [DataCamp Tutorial on CrewAI](https://www.datacamp.com/tutorial/crew-ai)\n",
       "\n",
       "## OpenAI Swarm: Revolutionizing Multi-Agent AI Systems\n",
       "\n",
       "### The Goal of OpenAI Swarm\n",
       "OpenAI Swarm is an experimental AI framework developed by OpenAI with the primary goal of facilitating the development, orchestration, and deployment of multi-agent systems. This framework aims to simplify the process of coordinating multiple AI agents to solve complex tasks by enabling a more collaborative and flexible approach to problem-solving. By streamlining the coordination and execution of multiple AI agents within a single environment, OpenAI Swarm represents a significant step forward in the development of multi-agent AI systems (Source 4).\n",
       "\n",
       "### Capabilities of OpenAI Swarm\n",
       "OpenAI Swarm empowers developers to build intricate AI applications with unprecedented ease. It allows for the seamless coordination of AI agents, which can be used to create personalized experiences, such as tailored travel itineraries that feel like they come from a team of expert travel agents. The framework supports the integration of real-time APIs, enabling agents to handle tasks like hotel bookings, restaurant reservations, and car rentals efficiently. This capability significantly reduces response times and improves customer satisfaction in various applications, including customer service (Sources 2 and 3).\n",
       "\n",
       "### Unique Features and Advantages\n",
       "OpenAI Swarm introduces several key features that distinguish it from other multi-agent orchestration frameworks. Unlike frameworks like AgentSim and MARL systems, which focus on training or specific simulation environments, Swarm offers an adaptable, scalable platform for real-world, decentralized multi-agent coordination. This flexibility and scalability make it a powerful tool for developers looking to implement multi-agent systems in diverse and dynamic environments. The framework's open-source nature also encourages collaboration and innovation within the developer community, further enhancing its potential impact (Source 5).\n",
       "\n",
       "### Sources\n",
       "- [GitHub - openai/swarm](https://github.com/openai/swarm)\n",
       "- [Building Intelligent Multi-Agent Systems with Swarm](https://dzone.com/articles/building-intelligent-multi-agent-systems-with-swarm)\n",
       "- [OpenAI Swarm Guide](https://insights.codegpt.co/openai-swarm-guide)\n",
       "- [OpenAI Releases Swarm: An Experimental AI Framework for Multi-Agent Systems](https://medium.com/cool-devs/openai-releases-swarm-an-experimental-ai-framework-for-multi-agent-systems-2e2d9372f839)\n",
       "- [A Deep Dive into OpenAI’s Swarm Framework: The Future of Multi-Agent AI Systems](https://medium.com/@hybrid.minds/a-deep-dive-into-openais-swarm-framework-the-future-of-multi-agent-ai-systems-c00e395be1b3)\n",
       "\n",
       "## Conclusion: Charting the Future of AI Agent Frameworks\n",
       "\n",
       "### Recapping the Goals and Capabilities of Each Framework\n",
       "\n",
       "In this report, we explored three innovative AI frameworks: LangGraph, CrewAI, and OpenAI Swarm, each with distinct goals and capabilities.\n",
       "\n",
       "- **LangGraph** aims to streamline the development and execution of AI agents by providing a structured environment for coordinating multiple language model agents. Its capabilities include supporting diverse control flows and enabling the creation of cyclical graphs for efficient task execution.\n",
       "\n",
       "- **CrewAI** focuses on orchestrating role-playing AI agents to work cohesively towards shared objectives. It facilitates collaboration among autonomous agents, enhancing decision-making and streamlining workflows through its unique \"crews\" concept.\n",
       "\n",
       "- **OpenAI Swarm** is designed to simplify the coordination of multi-agent systems, enabling collaborative problem-solving. It supports real-time API integration and offers a scalable platform for decentralized multi-agent coordination.\n",
       "\n",
       "### Comparative Table of Features\n",
       "\n",
       "| Feature/Framework | LangGraph | CrewAI | OpenAI Swarm |\n",
       "|-------------------|-----------|--------|--------------|\n",
       "| **Primary Goal** | Streamline AI agent development | Facilitate AI agent collaboration | Simplify multi-agent coordination |\n",
       "| **Control Flow** | Single, multi-agent, hierarchical, sequential | Role-based agent collaboration | Decentralized multi-agent coordination |\n",
       "| **Unique Concept** | Cyclical graphs for task orchestration | \"Crews\" of role-playing agents | Real-time API integration |\n",
       "| **Customization** | Extensive options for workflows | Limited control, automatic tool selection | Open-source, adaptable platform |\n",
       "| **Integration** | External tools and APIs | Automated workflow deployment | Real-time APIs for dynamic tasks |\n",
       "\n",
       "### Insights on the Future of AI Agent Frameworks\n",
       "\n",
       "The future of AI agent frameworks is poised for significant advancements, driven by the unique capabilities and goals of LangGraph, CrewAI, and OpenAI Swarm. As these frameworks continue to evolve, they will likely foster more sophisticated AI systems capable of handling complex, real-world scenarios with greater efficiency and collaboration. The integration of real-time data and the ability to seamlessly coordinate multiple agents will be crucial in enhancing the effectiveness of AI-driven processes across various industries. As open-source platforms like OpenAI Swarm encourage community collaboration, we can anticipate a surge in innovation and the development of more versatile and powerful AI frameworks."
      ],
      "text/plain": [
       "<IPython.core.display.Markdown object>"
      ]
     },
     "execution_count": 111,
     "metadata": {},
     "output_type": "execute_result"
    }
   ],
   "source": [
    "from IPython.display import Markdown\n",
    "Markdown(final_state['final_report'])"
   ]
  },
  {
   "cell_type": "code",
   "execution_count": null,
   "metadata": {},
   "outputs": [],
   "source": []
  }
 ],
 "metadata": {
  "kernelspec": {
   "display_name": "report_maistro",
   "language": "python",
   "name": "python3"
  },
  "language_info": {
   "codemirror_mode": {
    "name": "ipython",
    "version": 3
   },
   "file_extension": ".py",
   "mimetype": "text/x-python",
   "name": "python",
   "nbconvert_exporter": "python",
   "pygments_lexer": "ipython3",
   "version": "3.13.0"
  }
 },
 "nbformat": 4,
 "nbformat_minor": 2
}
